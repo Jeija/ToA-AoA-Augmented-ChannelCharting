{
 "cells": [
  {
   "cell_type": "code",
   "execution_count": 1,
   "metadata": {},
   "outputs": [
    {
     "name": "stderr",
     "output_type": "stream",
     "text": [
      "2023-10-19 14:27:02.996709: I tensorflow/core/platform/cpu_feature_guard.cc:182] This TensorFlow binary is optimized to use available CPU instructions in performance-critical operations.\n",
      "To enable the following instructions: AVX2 FMA, in other operations, rebuild TensorFlow with the appropriate compiler flags.\n",
      "2023-10-19 14:27:03.779618: W tensorflow/compiler/tf2tensorrt/utils/py_utils.cc:38] TF-TRT Warning: Could not find TensorRT\n",
      "2023-10-19 14:27:04.635629: I tensorflow/compiler/xla/stream_executor/cuda/cuda_gpu_executor.cc:995] successful NUMA node read from SysFS had negative value (-1), but there must be at least one NUMA node, so returning NUMA node zero. See more at https://github.com/torvalds/linux/blob/v6.0/Documentation/ABI/testing/sysfs-bus-pci#L344-L355\n",
      "2023-10-19 14:27:04.658819: I tensorflow/compiler/xla/stream_executor/cuda/cuda_gpu_executor.cc:995] successful NUMA node read from SysFS had negative value (-1), but there must be at least one NUMA node, so returning NUMA node zero. See more at https://github.com/torvalds/linux/blob/v6.0/Documentation/ABI/testing/sysfs-bus-pci#L344-L355\n",
      "2023-10-19 14:27:04.659129: I tensorflow/compiler/xla/stream_executor/cuda/cuda_gpu_executor.cc:995] successful NUMA node read from SysFS had negative value (-1), but there must be at least one NUMA node, so returning NUMA node zero. See more at https://github.com/torvalds/linux/blob/v6.0/Documentation/ABI/testing/sysfs-bus-pci#L344-L355\n",
      "2023-10-19 14:27:04.660879: I tensorflow/compiler/xla/stream_executor/cuda/cuda_gpu_executor.cc:995] successful NUMA node read from SysFS had negative value (-1), but there must be at least one NUMA node, so returning NUMA node zero. See more at https://github.com/torvalds/linux/blob/v6.0/Documentation/ABI/testing/sysfs-bus-pci#L344-L355\n",
      "2023-10-19 14:27:04.661107: I tensorflow/compiler/xla/stream_executor/cuda/cuda_gpu_executor.cc:995] successful NUMA node read from SysFS had negative value (-1), but there must be at least one NUMA node, so returning NUMA node zero. See more at https://github.com/torvalds/linux/blob/v6.0/Documentation/ABI/testing/sysfs-bus-pci#L344-L355\n",
      "2023-10-19 14:27:04.661313: I tensorflow/compiler/xla/stream_executor/cuda/cuda_gpu_executor.cc:995] successful NUMA node read from SysFS had negative value (-1), but there must be at least one NUMA node, so returning NUMA node zero. See more at https://github.com/torvalds/linux/blob/v6.0/Documentation/ABI/testing/sysfs-bus-pci#L344-L355\n",
      "2023-10-19 14:27:05.171565: I tensorflow/compiler/xla/stream_executor/cuda/cuda_gpu_executor.cc:995] successful NUMA node read from SysFS had negative value (-1), but there must be at least one NUMA node, so returning NUMA node zero. See more at https://github.com/torvalds/linux/blob/v6.0/Documentation/ABI/testing/sysfs-bus-pci#L344-L355\n",
      "2023-10-19 14:27:05.171840: I tensorflow/compiler/xla/stream_executor/cuda/cuda_gpu_executor.cc:995] successful NUMA node read from SysFS had negative value (-1), but there must be at least one NUMA node, so returning NUMA node zero. See more at https://github.com/torvalds/linux/blob/v6.0/Documentation/ABI/testing/sysfs-bus-pci#L344-L355\n",
      "2023-10-19 14:27:05.172057: I tensorflow/compiler/xla/stream_executor/cuda/cuda_gpu_executor.cc:995] successful NUMA node read from SysFS had negative value (-1), but there must be at least one NUMA node, so returning NUMA node zero. See more at https://github.com/torvalds/linux/blob/v6.0/Documentation/ABI/testing/sysfs-bus-pci#L344-L355\n",
      "2023-10-19 14:27:05.172238: I tensorflow/core/common_runtime/gpu/gpu_device.cc:1639] Created device /job:localhost/replica:0/task:0/device:GPU:0 with 12808 MB memory:  -> device: 0, name: NVIDIA GeForce RTX 4080, pci bus id: 0000:81:00.0, compute capability: 8.9\n",
      "2023-10-19 14:27:05.784101: I tensorflow/core/grappler/optimizers/data/replicate_on_split.cc:32] Running replicate on split optimization\n",
      "2023-10-19 14:27:05.815595: I tensorflow/core/grappler/optimizers/data/replicate_on_split.cc:32] Running replicate on split optimization\n"
     ]
    }
   ],
   "source": [
    "from dichasus_cf0x import training_set\n",
    "import tensorflow as tf\n",
    "import numpy as np\n",
    "import tqdm"
   ]
  },
  {
   "cell_type": "code",
   "execution_count": 2,
   "metadata": {},
   "outputs": [],
   "source": [
    "# Count number of datapoints in training set (for progress bar)\n",
    "TOTAL_DATAPOINTS = sum(1 for _ in training_set)"
   ]
  },
  {
   "cell_type": "code",
   "execution_count": 3,
   "metadata": {},
   "outputs": [],
   "source": [
    "SUBCARRIERS = tf.shape(training_set.take(1).get_single_element()[0])[-1].numpy()"
   ]
  },
  {
   "cell_type": "code",
   "execution_count": 4,
   "metadata": {},
   "outputs": [],
   "source": [
    "# Rissanen MDL, as described in\n",
    "# Xinrong Li and Kaveh Pahlavan: \"Super-resolution TOA estimation with diversity for indoor geolocation\" in IEEE Transactions on Wireless Communications\n",
    "def rissanen_mdl(eigenvalues, chunkcount, use_fbcm = False, L = 100):\n",
    "    eigenvalues = np.sort(np.real(eigenvalues))[::-1]\n",
    "    \n",
    "    M = chunkcount\n",
    "    mdl = np.zeros(L)\n",
    "\n",
    "    for k in range(L):\n",
    "        mdl[k] = -M * (L - k) * (np.sum(np.log(eigenvalues[k:L]) / (L - k)) - np.log(np.sum(eigenvalues[k:L]) / (L - k)))\n",
    "        if use_fbcm:\n",
    "            mdl[k] = mdl[k] + (1/4) * k * (2 * L - k + 1) * np.log(M)\n",
    "        else:\n",
    "            mdl[k] = mdl[k] + (1/2) * k * (2 * L - k) * np.log(M)\n",
    "\n",
    "    return np.argmin(mdl)\n",
    "\n",
    "# root-MUSIC algorithm implementation\n",
    "# returns delays and powers, sorted by power from strongest to weakest\n",
    "def rootmusic_toa(eigval, eigvec, source_count):\n",
    "    Qn = np.asmatrix(eigvec[:,source_count:])\n",
    "    C = np.matmul(Qn, Qn.H)\n",
    "    \n",
    "    coeffs = np.asarray([np.trace(C, offset = diag) for diag in range(1, len(C))])\n",
    "\n",
    "    # Remove some of the smaller noise coefficients, trade accuracy for speed\n",
    "    coeffs = np.hstack((coeffs[::-1], np.trace(C), coeffs.conj()))\n",
    "\n",
    "    roots = np.roots(coeffs)\n",
    "    roots = roots[abs(roots) < 1]\n",
    "    powers = 1 / (1 - np.abs(roots))\n",
    "    largest_roots = np.argsort(powers)[::-1]\n",
    "\n",
    "    source_delays = -SUBCARRIERS * np.angle(roots[largest_roots[:source_count]]) / (2 * np.pi)\n",
    "    source_powers = powers[largest_roots[:source_count]]\n",
    "\n",
    "    return source_delays, source_powers\n"
   ]
  },
  {
   "cell_type": "code",
   "execution_count": 5,
   "metadata": {},
   "outputs": [],
   "source": [
    "# Expects csi in shape (arrays, antenna_rows, antenna_columns, subcarriers)\n",
    "def estimate_toas(csi, chunksize = None):\n",
    "    chunksize = np.shape(csi)[-1] if chunksize is None else chunksize\n",
    "    chunkcount = np.shape(csi)[-1] // chunksize\n",
    "\n",
    "    # Compute array covariance matrix R and perform eigenvector / eigenvalue decomposition\n",
    "    csi_chunked = np.reshape(csi, (np.shape(csi)[0], np.shape(csi)[1], np.shape(csi)[2], chunkcount, chunksize))\n",
    "    R = np.einsum(\"armcs,armct->ast\", csi_chunked, np.conj(csi_chunked))\n",
    "\n",
    "    # Use forward–backward correlation matrix\n",
    "    R = (R + np.flip(np.conj(R), axis = (1, 2))) / 2\n",
    "    eigval, eigvec = np.linalg.eigh(R)\n",
    "    eigval = eigval[:,::-1]\n",
    "    eigvec = eigvec[:,:,::-1]\n",
    "\n",
    "    toa_by_array = np.zeros(np.shape(csi)[0])\n",
    "    for array in range(np.shape(csi)[0]):\n",
    "        source_count = rissanen_mdl(eigval[array,:], chunkcount, use_fbcm = True, L = chunksize // 2)\n",
    "        delays, powers = rootmusic_toa(eigval[array], eigvec[array], source_count)\n",
    "    \n",
    "        # Out of the strongest \"source_count // 2\" paths (or at least 1, but maximum 5), pick the earliest one\n",
    "        if len(delays) > 0:\n",
    "            toa_by_array[array] = np.min(delays[:min(5, max(source_count // 2, 1))])\n",
    "\n",
    "    return toa_by_array"
   ]
  },
  {
   "cell_type": "code",
   "execution_count": 6,
   "metadata": {},
   "outputs": [
    {
     "name": "stderr",
     "output_type": "stream",
     "text": [
      "  0%|          | 5/20997 [00:30<35:39:43,  6.12s/it]"
     ]
    },
    {
     "ename": "KeyboardInterrupt",
     "evalue": "",
     "output_type": "error",
     "traceback": [
      "\u001b[0;31m---------------------------------------------------------------------------\u001b[0m",
      "\u001b[0;31mKeyboardInterrupt\u001b[0m                         Traceback (most recent call last)",
      "Cell \u001b[0;32mIn[6], line 1\u001b[0m\n\u001b[0;32m----> 1\u001b[0m estimated_toas \u001b[38;5;241m=\u001b[39m \u001b[43m[\u001b[49m\u001b[43mestimate_toas\u001b[49m\u001b[43m(\u001b[49m\u001b[43mcsi\u001b[49m\u001b[43m,\u001b[49m\u001b[43m \u001b[49m\u001b[43mchunksize\u001b[49m\u001b[43m \u001b[49m\u001b[38;5;241;43m=\u001b[39;49m\u001b[43m \u001b[49m\u001b[38;5;241;43m256\u001b[39;49m\u001b[43m)\u001b[49m\u001b[43m \u001b[49m\u001b[38;5;28;43;01mfor\u001b[39;49;00m\u001b[43m \u001b[49m\u001b[43mcsi\u001b[49m\u001b[43m,\u001b[49m\u001b[43m \u001b[49m\u001b[43mpos\u001b[49m\u001b[43m,\u001b[49m\u001b[43m \u001b[49m\u001b[43mtime\u001b[49m\u001b[43m \u001b[49m\u001b[38;5;129;43;01min\u001b[39;49;00m\u001b[43m \u001b[49m\u001b[43mtqdm\u001b[49m\u001b[38;5;241;43m.\u001b[39;49m\u001b[43mtqdm\u001b[49m\u001b[43m(\u001b[49m\u001b[43mtraining_set\u001b[49m\u001b[43m,\u001b[49m\u001b[43m \u001b[49m\u001b[43mtotal\u001b[49m\u001b[43m \u001b[49m\u001b[38;5;241;43m=\u001b[39;49m\u001b[43m \u001b[49m\u001b[43mTOTAL_DATAPOINTS\u001b[49m\u001b[43m)\u001b[49m\u001b[43m]\u001b[49m\n",
      "Cell \u001b[0;32mIn[6], line 1\u001b[0m, in \u001b[0;36m<listcomp>\u001b[0;34m(.0)\u001b[0m\n\u001b[0;32m----> 1\u001b[0m estimated_toas \u001b[38;5;241m=\u001b[39m [\u001b[43mestimate_toas\u001b[49m\u001b[43m(\u001b[49m\u001b[43mcsi\u001b[49m\u001b[43m,\u001b[49m\u001b[43m \u001b[49m\u001b[43mchunksize\u001b[49m\u001b[43m \u001b[49m\u001b[38;5;241;43m=\u001b[39;49m\u001b[43m \u001b[49m\u001b[38;5;241;43m256\u001b[39;49m\u001b[43m)\u001b[49m \u001b[38;5;28;01mfor\u001b[39;00m csi, pos, time \u001b[38;5;129;01min\u001b[39;00m tqdm\u001b[38;5;241m.\u001b[39mtqdm(training_set, total \u001b[38;5;241m=\u001b[39m TOTAL_DATAPOINTS)]\n",
      "Cell \u001b[0;32mIn[5], line 19\u001b[0m, in \u001b[0;36mestimate_toas\u001b[0;34m(csi, chunksize)\u001b[0m\n\u001b[1;32m     17\u001b[0m \u001b[38;5;28;01mfor\u001b[39;00m array \u001b[38;5;129;01min\u001b[39;00m \u001b[38;5;28mrange\u001b[39m(np\u001b[38;5;241m.\u001b[39mshape(csi)[\u001b[38;5;241m0\u001b[39m]):\n\u001b[1;32m     18\u001b[0m     source_count \u001b[38;5;241m=\u001b[39m rissanen_mdl(eigval[array,:], chunkcount, use_fbcm \u001b[38;5;241m=\u001b[39m \u001b[38;5;28;01mTrue\u001b[39;00m, L \u001b[38;5;241m=\u001b[39m chunksize \u001b[38;5;241m/\u001b[39m\u001b[38;5;241m/\u001b[39m \u001b[38;5;241m2\u001b[39m)\n\u001b[0;32m---> 19\u001b[0m     delays, powers \u001b[38;5;241m=\u001b[39m \u001b[43mrootmusic_toa\u001b[49m\u001b[43m(\u001b[49m\u001b[43meigval\u001b[49m\u001b[43m[\u001b[49m\u001b[43marray\u001b[49m\u001b[43m]\u001b[49m\u001b[43m,\u001b[49m\u001b[43m \u001b[49m\u001b[43meigvec\u001b[49m\u001b[43m[\u001b[49m\u001b[43marray\u001b[49m\u001b[43m]\u001b[49m\u001b[43m,\u001b[49m\u001b[43m \u001b[49m\u001b[43msource_count\u001b[49m\u001b[43m)\u001b[49m\n\u001b[1;32m     21\u001b[0m     \u001b[38;5;66;03m# Out of the strongest \"source_count // 2\" paths (or at least 1, but maximum 5), pick the earliest one\u001b[39;00m\n\u001b[1;32m     22\u001b[0m     \u001b[38;5;28;01mif\u001b[39;00m \u001b[38;5;28mlen\u001b[39m(delays) \u001b[38;5;241m>\u001b[39m \u001b[38;5;241m0\u001b[39m:\n",
      "Cell \u001b[0;32mIn[4], line 29\u001b[0m, in \u001b[0;36mrootmusic_toa\u001b[0;34m(eigval, eigvec, source_count)\u001b[0m\n\u001b[1;32m     26\u001b[0m \u001b[38;5;66;03m# Remove some of the smaller noise coefficients, trade accuracy for speed\u001b[39;00m\n\u001b[1;32m     27\u001b[0m coeffs \u001b[38;5;241m=\u001b[39m np\u001b[38;5;241m.\u001b[39mhstack((coeffs[::\u001b[38;5;241m-\u001b[39m\u001b[38;5;241m1\u001b[39m], np\u001b[38;5;241m.\u001b[39mtrace(C), coeffs\u001b[38;5;241m.\u001b[39mconj()))\n\u001b[0;32m---> 29\u001b[0m roots \u001b[38;5;241m=\u001b[39m \u001b[43mnp\u001b[49m\u001b[38;5;241;43m.\u001b[39;49m\u001b[43mroots\u001b[49m\u001b[43m(\u001b[49m\u001b[43mcoeffs\u001b[49m\u001b[43m)\u001b[49m\n\u001b[1;32m     30\u001b[0m roots \u001b[38;5;241m=\u001b[39m roots[\u001b[38;5;28mabs\u001b[39m(roots) \u001b[38;5;241m<\u001b[39m \u001b[38;5;241m1\u001b[39m]\n\u001b[1;32m     31\u001b[0m powers \u001b[38;5;241m=\u001b[39m \u001b[38;5;241m1\u001b[39m \u001b[38;5;241m/\u001b[39m (\u001b[38;5;241m1\u001b[39m \u001b[38;5;241m-\u001b[39m np\u001b[38;5;241m.\u001b[39mabs(roots))\n",
      "File \u001b[0;32m<__array_function__ internals>:200\u001b[0m, in \u001b[0;36mroots\u001b[0;34m(*args, **kwargs)\u001b[0m\n",
      "File \u001b[0;32m/opt/conda/lib/python3.11/site-packages/numpy/lib/polynomial.py:254\u001b[0m, in \u001b[0;36mroots\u001b[0;34m(p)\u001b[0m\n\u001b[1;32m    252\u001b[0m     A \u001b[38;5;241m=\u001b[39m diag(NX\u001b[38;5;241m.\u001b[39mones((N\u001b[38;5;241m-\u001b[39m\u001b[38;5;241m2\u001b[39m,), p\u001b[38;5;241m.\u001b[39mdtype), \u001b[38;5;241m-\u001b[39m\u001b[38;5;241m1\u001b[39m)\n\u001b[1;32m    253\u001b[0m     A[\u001b[38;5;241m0\u001b[39m,:] \u001b[38;5;241m=\u001b[39m \u001b[38;5;241m-\u001b[39mp[\u001b[38;5;241m1\u001b[39m:] \u001b[38;5;241m/\u001b[39m p[\u001b[38;5;241m0\u001b[39m]\n\u001b[0;32m--> 254\u001b[0m     roots \u001b[38;5;241m=\u001b[39m \u001b[43meigvals\u001b[49m\u001b[43m(\u001b[49m\u001b[43mA\u001b[49m\u001b[43m)\u001b[49m\n\u001b[1;32m    255\u001b[0m \u001b[38;5;28;01melse\u001b[39;00m:\n\u001b[1;32m    256\u001b[0m     roots \u001b[38;5;241m=\u001b[39m NX\u001b[38;5;241m.\u001b[39marray([])\n",
      "File \u001b[0;32m<__array_function__ internals>:200\u001b[0m, in \u001b[0;36meigvals\u001b[0;34m(*args, **kwargs)\u001b[0m\n",
      "File \u001b[0;32m/opt/conda/lib/python3.11/site-packages/numpy/linalg/linalg.py:1049\u001b[0m, in \u001b[0;36meigvals\u001b[0;34m(a)\u001b[0m\n\u001b[1;32m   1046\u001b[0m extobj \u001b[38;5;241m=\u001b[39m get_linalg_error_extobj(\n\u001b[1;32m   1047\u001b[0m     _raise_linalgerror_eigenvalues_nonconvergence)\n\u001b[1;32m   1048\u001b[0m signature \u001b[38;5;241m=\u001b[39m \u001b[38;5;124m'\u001b[39m\u001b[38;5;124mD->D\u001b[39m\u001b[38;5;124m'\u001b[39m \u001b[38;5;28;01mif\u001b[39;00m isComplexType(t) \u001b[38;5;28;01melse\u001b[39;00m \u001b[38;5;124m'\u001b[39m\u001b[38;5;124md->D\u001b[39m\u001b[38;5;124m'\u001b[39m\n\u001b[0;32m-> 1049\u001b[0m w \u001b[38;5;241m=\u001b[39m \u001b[43m_umath_linalg\u001b[49m\u001b[38;5;241;43m.\u001b[39;49m\u001b[43meigvals\u001b[49m\u001b[43m(\u001b[49m\u001b[43ma\u001b[49m\u001b[43m,\u001b[49m\u001b[43m \u001b[49m\u001b[43msignature\u001b[49m\u001b[38;5;241;43m=\u001b[39;49m\u001b[43msignature\u001b[49m\u001b[43m,\u001b[49m\u001b[43m \u001b[49m\u001b[43mextobj\u001b[49m\u001b[38;5;241;43m=\u001b[39;49m\u001b[43mextobj\u001b[49m\u001b[43m)\u001b[49m\n\u001b[1;32m   1051\u001b[0m \u001b[38;5;28;01mif\u001b[39;00m \u001b[38;5;129;01mnot\u001b[39;00m isComplexType(t):\n\u001b[1;32m   1052\u001b[0m     \u001b[38;5;28;01mif\u001b[39;00m \u001b[38;5;28mall\u001b[39m(w\u001b[38;5;241m.\u001b[39mimag \u001b[38;5;241m==\u001b[39m \u001b[38;5;241m0\u001b[39m):\n",
      "\u001b[0;31mKeyboardInterrupt\u001b[0m: "
     ]
    }
   ],
   "source": [
    "estimated_toas = [estimate_toas(csi, chunksize = 256) for csi, pos, time in tqdm.tqdm(training_set, total = TOTAL_DATAPOINTS)]"
   ]
  },
  {
   "cell_type": "code",
   "execution_count": null,
   "metadata": {},
   "outputs": [],
   "source": [
    "estimated_toas = np.asarray(estimated_toas)"
   ]
  },
  {
   "cell_type": "code",
   "execution_count": null,
   "metadata": {},
   "outputs": [],
   "source": [
    "np.save(\"results/estimated_toas.npy\", estimated_toas)"
   ]
  },
  {
   "cell_type": "code",
   "execution_count": null,
   "metadata": {},
   "outputs": [],
   "source": []
  }
 ],
 "metadata": {
  "kernelspec": {
   "display_name": "Python 3 (ipykernel)",
   "language": "python",
   "name": "python3"
  },
  "language_info": {
   "codemirror_mode": {
    "name": "ipython",
    "version": 3
   },
   "file_extension": ".py",
   "mimetype": "text/x-python",
   "name": "python",
   "nbconvert_exporter": "python",
   "pygments_lexer": "ipython3",
   "version": "3.11.4"
  }
 },
 "nbformat": 4,
 "nbformat_minor": 4
}
